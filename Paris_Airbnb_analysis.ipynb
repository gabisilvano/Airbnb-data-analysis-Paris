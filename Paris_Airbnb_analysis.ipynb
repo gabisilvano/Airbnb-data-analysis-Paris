{
  "nbformat": 4,
  "nbformat_minor": 0,
  "metadata": {
    "colab": {
      "name": "Paris Airbnb analysis.ipynb",
      "provenance": [],
      "collapsed_sections": [],
      "toc_visible": true,
      "authorship_tag": "ABX9TyOcotj8XEI9UdGQeORLp+BM",
      "include_colab_link": true
    },
    "kernelspec": {
      "name": "python3",
      "display_name": "Python 3"
    }
  },
  "cells": [
    {
      "cell_type": "markdown",
      "metadata": {
        "id": "view-in-github",
        "colab_type": "text"
      },
      "source": [
        "<a href=\"https://colab.research.google.com/github/gabisilvano/Airbnb-data-analysis-Paris/blob/master/Paris_Airbnb_analysis.ipynb\" target=\"_parent\"><img src=\"https://colab.research.google.com/assets/colab-badge.svg\" alt=\"Open In Colab\"/></a>"
      ]
    },
    {
      "cell_type": "markdown",
      "metadata": {
        "id": "yhEKIPuBcdzy",
        "colab_type": "text"
      },
      "source": [
        "<p align=\"center\">\n",
        "  <img alt=\"Gabi Silvano Logo\" width=\"17%\"  src=\"https://gabisilvano.com/wp-content/uploads/2020/08/ap01-original-horizontal-1-6.png\">\n",
        "</p>\n",
        "\n",
        "#Airbnb data analysis - Paris\n",
        "\n",
        "\n",
        "Airbnb was the biggest hotel chain without having any hotel! \n",
        "\n",
        "\n",
        "In 2018 the company had hosted the amount of 300.000 million peoples. Nowadays, times are complicated with Covid19, and the company is struggling like most of the companies that work with tourism.\n",
        "\n",
        "\n",
        "\n",
        "One great thing that Airbnb does is to let their data open for everyone who what to use and study the data like data analysis, and machine learning applications, the dataset can be found at [Inside Airbnb](http://insideairbnb.com/get-the-data.html).\n",
        "\n",
        "\n",
        "<center><img alt=\"Analisando Airbnb\" width=\"15%\" src=\"https://www.area360.com.au/wp-content/uploads/2017/09/airbnb-logo.jpg\"></center>\n",
        "\n",
        "\n",
        "**This *notebook* is to analyze the dataset from Paris.**\n",
        "\n"
      ]
    },
    {
      "cell_type": "markdown",
      "metadata": {
        "id": "Ld02Zsrspllt",
        "colab_type": "text"
      },
      "source": [
        "##Obtaining data\n",
        "\n",
        "All the data at this project came from Inside Airbnb. \n",
        "\n",
        "For the exploratory analysis will be using the file bellow:\n",
        "\n",
        "* `listings.csv` - *Summary information and metrics for listings in Paris (good for visualizations).*"
      ]
    },
    {
      "cell_type": "code",
      "metadata": {
        "id": "C2903cGabTh_",
        "colab_type": "code",
        "colab": {}
      },
      "source": [
        "#importing the packages\n",
        "import pandas as pd\n",
        "import matplotlib.pyplot as plt\n",
        "import seaborn as sns\n",
        "\n",
        "%matplotlib inline"
      ],
      "execution_count": 2,
      "outputs": []
    },
    {
      "cell_type": "code",
      "metadata": {
        "id": "VrsRJUrIqiby",
        "colab_type": "code",
        "colab": {}
      },
      "source": [
        "#importing the dataset from listings.csv to a dataframe\n",
        "\n",
        "df = pd.read_csv(\"http://data.insideairbnb.com/france/ile-de-france/paris/2020-06-11/visualisations/listings.csv\")"
      ],
      "execution_count": 3,
      "outputs": []
    },
    {
      "cell_type": "markdown",
      "metadata": {
        "id": "X5BFoCPesHt4",
        "colab_type": "text"
      },
      "source": [
        "\n",
        "##Data analysis\n",
        "\n",
        "Here we will see how the data is organized in this project.\n",
        "\n"
      ]
    },
    {
      "cell_type": "markdown",
      "metadata": {
        "id": "Ci5GNNY7tqle",
        "colab_type": "text"
      },
      "source": [
        "**Variables dictionary:**\n",
        "\n",
        "* `id`\n",
        "* `name`\n",
        "* `host_id` \n",
        "* `host_name` \n",
        "* `neighbourhood_group` \n",
        "* `neighbourhood` \n",
        "* `latitude` \n",
        "* `longitude` \n",
        "* `room_type` \n",
        "* `price` \n",
        "* `minimum_nights` \n",
        "* `number_of_reviews` \n",
        "* `last_review` \n",
        "* `reviews_per_month`\n",
        "* `calculated_host_listings_count`\n",
        "* `availability_365`\n",
        "\n",
        "\n",
        "Let's see the first rows of the dataset."
      ]
    },
    {
      "cell_type": "code",
      "metadata": {
        "id": "oSOoLX9yrP2E",
        "colab_type": "code",
        "colab": {
          "base_uri": "https://localhost:8080/",
          "height": 513
        },
        "outputId": "884a300c-f0f4-49b6-b733-82c168e64416"
      },
      "source": [
        "#show the first rows\n",
        "df.head()"
      ],
      "execution_count": 4,
      "outputs": [
        {
          "output_type": "execute_result",
          "data": {
            "text/html": [
              "<div>\n",
              "<style scoped>\n",
              "    .dataframe tbody tr th:only-of-type {\n",
              "        vertical-align: middle;\n",
              "    }\n",
              "\n",
              "    .dataframe tbody tr th {\n",
              "        vertical-align: top;\n",
              "    }\n",
              "\n",
              "    .dataframe thead th {\n",
              "        text-align: right;\n",
              "    }\n",
              "</style>\n",
              "<table border=\"1\" class=\"dataframe\">\n",
              "  <thead>\n",
              "    <tr style=\"text-align: right;\">\n",
              "      <th></th>\n",
              "      <th>id</th>\n",
              "      <th>name</th>\n",
              "      <th>host_id</th>\n",
              "      <th>host_name</th>\n",
              "      <th>neighbourhood_group</th>\n",
              "      <th>neighbourhood</th>\n",
              "      <th>latitude</th>\n",
              "      <th>longitude</th>\n",
              "      <th>room_type</th>\n",
              "      <th>price</th>\n",
              "      <th>minimum_nights</th>\n",
              "      <th>number_of_reviews</th>\n",
              "      <th>last_review</th>\n",
              "      <th>reviews_per_month</th>\n",
              "      <th>calculated_host_listings_count</th>\n",
              "      <th>availability_365</th>\n",
              "    </tr>\n",
              "  </thead>\n",
              "  <tbody>\n",
              "    <tr>\n",
              "      <th>0</th>\n",
              "      <td>2577</td>\n",
              "      <td>Loft for 4 by Canal Saint Martin</td>\n",
              "      <td>2827</td>\n",
              "      <td>Karine</td>\n",
              "      <td>NaN</td>\n",
              "      <td>Entrepôt</td>\n",
              "      <td>48.86993</td>\n",
              "      <td>2.36251</td>\n",
              "      <td>Entire home/apt</td>\n",
              "      <td>125</td>\n",
              "      <td>3</td>\n",
              "      <td>1</td>\n",
              "      <td>2019-01-02</td>\n",
              "      <td>0.06</td>\n",
              "      <td>1</td>\n",
              "      <td>365</td>\n",
              "    </tr>\n",
              "    <tr>\n",
              "      <th>1</th>\n",
              "      <td>3109</td>\n",
              "      <td>zen and calm</td>\n",
              "      <td>3631</td>\n",
              "      <td>Anne</td>\n",
              "      <td>NaN</td>\n",
              "      <td>Observatoire</td>\n",
              "      <td>48.83349</td>\n",
              "      <td>2.31852</td>\n",
              "      <td>Entire home/apt</td>\n",
              "      <td>60</td>\n",
              "      <td>2</td>\n",
              "      <td>9</td>\n",
              "      <td>2019-10-24</td>\n",
              "      <td>0.21</td>\n",
              "      <td>1</td>\n",
              "      <td>365</td>\n",
              "    </tr>\n",
              "    <tr>\n",
              "      <th>2</th>\n",
              "      <td>4890</td>\n",
              "      <td>Quiet Historic &amp; Cute  +Free Cruise</td>\n",
              "      <td>6792</td>\n",
              "      <td>Jennifer Of Cobblestone</td>\n",
              "      <td>NaN</td>\n",
              "      <td>Temple</td>\n",
              "      <td>48.86409</td>\n",
              "      <td>2.35651</td>\n",
              "      <td>Entire home/apt</td>\n",
              "      <td>100</td>\n",
              "      <td>4</td>\n",
              "      <td>22</td>\n",
              "      <td>2017-04-30</td>\n",
              "      <td>0.21</td>\n",
              "      <td>1</td>\n",
              "      <td>55</td>\n",
              "    </tr>\n",
              "    <tr>\n",
              "      <th>3</th>\n",
              "      <td>5396</td>\n",
              "      <td>Explore the heart of old Paris</td>\n",
              "      <td>7903</td>\n",
              "      <td>Borzou</td>\n",
              "      <td>NaN</td>\n",
              "      <td>Hôtel-de-Ville</td>\n",
              "      <td>48.85100</td>\n",
              "      <td>2.35869</td>\n",
              "      <td>Entire home/apt</td>\n",
              "      <td>115</td>\n",
              "      <td>1</td>\n",
              "      <td>221</td>\n",
              "      <td>2020-05-26</td>\n",
              "      <td>1.66</td>\n",
              "      <td>1</td>\n",
              "      <td>90</td>\n",
              "    </tr>\n",
              "    <tr>\n",
              "      <th>4</th>\n",
              "      <td>7397</td>\n",
              "      <td>MARAIS - 2ROOMS APT - 2/4 PEOPLE</td>\n",
              "      <td>2626</td>\n",
              "      <td>Franck</td>\n",
              "      <td>NaN</td>\n",
              "      <td>Hôtel-de-Ville</td>\n",
              "      <td>48.85758</td>\n",
              "      <td>2.35275</td>\n",
              "      <td>Entire home/apt</td>\n",
              "      <td>119</td>\n",
              "      <td>10</td>\n",
              "      <td>268</td>\n",
              "      <td>2020-02-26</td>\n",
              "      <td>2.39</td>\n",
              "      <td>2</td>\n",
              "      <td>288</td>\n",
              "    </tr>\n",
              "  </tbody>\n",
              "</table>\n",
              "</div>"
            ],
            "text/plain": [
              "     id  ... availability_365\n",
              "0  2577  ...              365\n",
              "1  3109  ...              365\n",
              "2  4890  ...               55\n",
              "3  5396  ...               90\n",
              "4  7397  ...              288\n",
              "\n",
              "[5 rows x 16 columns]"
            ]
          },
          "metadata": {
            "tags": []
          },
          "execution_count": 4
        }
      ]
    }
  ]
}