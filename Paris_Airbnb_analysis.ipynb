{
  "nbformat": 4,
  "nbformat_minor": 0,
  "metadata": {
    "colab": {
      "name": "Paris Airbnb analysis.ipynb",
      "provenance": [],
      "collapsed_sections": [],
      "toc_visible": true,
      "authorship_tag": "ABX9TyOqXxNJxkfgGlE6OPtkd3oa",
      "include_colab_link": true
    },
    "kernelspec": {
      "name": "python3",
      "display_name": "Python 3"
    }
  },
  "cells": [
    {
      "cell_type": "markdown",
      "metadata": {
        "id": "view-in-github",
        "colab_type": "text"
      },
      "source": [
        "<a href=\"https://colab.research.google.com/github/gabisilvano/Airbnb-data-analysis-Paris/blob/master/Paris_Airbnb_analysis.ipynb\" target=\"_parent\"><img src=\"https://colab.research.google.com/assets/colab-badge.svg\" alt=\"Open In Colab\"/></a>"
      ]
    },
    {
      "cell_type": "markdown",
      "metadata": {
        "id": "yhEKIPuBcdzy",
        "colab_type": "text"
      },
      "source": [
        "<p align=\"center\">\n",
        "  <img alt=\"Gabi Silvano Logo\" width=\"17%\"  src=\"https://gabisilvano.com/wp-content/uploads/2020/08/ap01-original-horizontal-1-6.png\">\n",
        "</p>\n",
        "\n",
        "#Airbnb data analysis - Paris\n",
        "\n",
        "\n",
        "Airbnb was the biggest hotel chain without having any hotel! \n",
        "\n",
        "\n",
        "In 2018 the company had hosted the amount of 300.000 million peoples. Nowadays, times are complicated with Covid19, and the company is struggling like most of the companies that work with tourism.\n",
        "\n",
        "\n",
        "\n",
        "One great thing that Airbnb does is to let their data open for everyone who what to use and study the data like data analysis, and machine learning applications, the dataset can be found at [Inside Airbnb](http://insideairbnb.com/get-the-data.html).\n",
        "\n",
        "\n",
        "<center><img alt=\"Analisando Airbnb\" width=\"10%\" src=\"https://www.area360.com.au/wp-content/uploads/2017/09/airbnb-logo.jpg\"></center>\n",
        "\n",
        "\n",
        "\n",
        "\n"
      ]
    },
    {
      "cell_type": "code",
      "metadata": {
        "id": "C2903cGabTh_",
        "colab_type": "code",
        "colab": {}
      },
      "source": [
        ""
      ],
      "execution_count": null,
      "outputs": []
    }
  ]
}